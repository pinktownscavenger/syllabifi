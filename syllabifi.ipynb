{
  "nbformat": 4,
  "nbformat_minor": 0,
  "metadata": {
    "colab": {
      "provenance": []
    },
    "kernelspec": {
      "name": "python3",
      "display_name": "Python 3"
    },
    "language_info": {
      "name": "python"
    }
  },
  "cells": [
    {
      "cell_type": "code",
      "source": [
        "!pip install eng-syl"
      ],
      "metadata": {
        "colab": {
          "base_uri": "https://localhost:8080/"
        },
        "collapsed": true,
        "id": "gvPb3I_oh_Dv",
        "outputId": "5ed0db14-ba1b-46c0-a64e-3a9a6df9b77a"
      },
      "execution_count": null,
      "outputs": [
        {
          "output_type": "stream",
          "name": "stdout",
          "text": [
            "Collecting eng-syl\n",
            "  Downloading eng_syl-4.0.1-py3-none-any.whl (86.4 MB)\n",
            "\u001b[2K     \u001b[90m━━━━━━━━━━━━━━━━━━━━━━━━━━━━━━━━━━━━━━━━\u001b[0m \u001b[32m86.4/86.4 MB\u001b[0m \u001b[31m8.8 MB/s\u001b[0m eta \u001b[36m0:00:00\u001b[0m\n",
            "\u001b[?25hRequirement already satisfied: tensorflow in /usr/local/lib/python3.10/dist-packages (from eng-syl) (2.15.0)\n",
            "Requirement already satisfied: numpy in /usr/local/lib/python3.10/dist-packages (from eng-syl) (1.25.2)\n",
            "Requirement already satisfied: absl-py>=1.0.0 in /usr/local/lib/python3.10/dist-packages (from tensorflow->eng-syl) (1.4.0)\n",
            "Requirement already satisfied: astunparse>=1.6.0 in /usr/local/lib/python3.10/dist-packages (from tensorflow->eng-syl) (1.6.3)\n",
            "Requirement already satisfied: flatbuffers>=23.5.26 in /usr/local/lib/python3.10/dist-packages (from tensorflow->eng-syl) (24.3.25)\n",
            "Requirement already satisfied: gast!=0.5.0,!=0.5.1,!=0.5.2,>=0.2.1 in /usr/local/lib/python3.10/dist-packages (from tensorflow->eng-syl) (0.5.4)\n",
            "Requirement already satisfied: google-pasta>=0.1.1 in /usr/local/lib/python3.10/dist-packages (from tensorflow->eng-syl) (0.2.0)\n",
            "Requirement already satisfied: h5py>=2.9.0 in /usr/local/lib/python3.10/dist-packages (from tensorflow->eng-syl) (3.9.0)\n",
            "Requirement already satisfied: libclang>=13.0.0 in /usr/local/lib/python3.10/dist-packages (from tensorflow->eng-syl) (18.1.1)\n",
            "Requirement already satisfied: ml-dtypes~=0.2.0 in /usr/local/lib/python3.10/dist-packages (from tensorflow->eng-syl) (0.2.0)\n",
            "Requirement already satisfied: opt-einsum>=2.3.2 in /usr/local/lib/python3.10/dist-packages (from tensorflow->eng-syl) (3.3.0)\n",
            "Requirement already satisfied: packaging in /usr/local/lib/python3.10/dist-packages (from tensorflow->eng-syl) (24.0)\n",
            "Requirement already satisfied: protobuf!=4.21.0,!=4.21.1,!=4.21.2,!=4.21.3,!=4.21.4,!=4.21.5,<5.0.0dev,>=3.20.3 in /usr/local/lib/python3.10/dist-packages (from tensorflow->eng-syl) (3.20.3)\n",
            "Requirement already satisfied: setuptools in /usr/local/lib/python3.10/dist-packages (from tensorflow->eng-syl) (67.7.2)\n",
            "Requirement already satisfied: six>=1.12.0 in /usr/local/lib/python3.10/dist-packages (from tensorflow->eng-syl) (1.16.0)\n",
            "Requirement already satisfied: termcolor>=1.1.0 in /usr/local/lib/python3.10/dist-packages (from tensorflow->eng-syl) (2.4.0)\n",
            "Requirement already satisfied: typing-extensions>=3.6.6 in /usr/local/lib/python3.10/dist-packages (from tensorflow->eng-syl) (4.12.0)\n",
            "Requirement already satisfied: wrapt<1.15,>=1.11.0 in /usr/local/lib/python3.10/dist-packages (from tensorflow->eng-syl) (1.14.1)\n",
            "Requirement already satisfied: tensorflow-io-gcs-filesystem>=0.23.1 in /usr/local/lib/python3.10/dist-packages (from tensorflow->eng-syl) (0.37.0)\n",
            "Requirement already satisfied: grpcio<2.0,>=1.24.3 in /usr/local/lib/python3.10/dist-packages (from tensorflow->eng-syl) (1.64.0)\n",
            "Requirement already satisfied: tensorboard<2.16,>=2.15 in /usr/local/lib/python3.10/dist-packages (from tensorflow->eng-syl) (2.15.2)\n",
            "Requirement already satisfied: tensorflow-estimator<2.16,>=2.15.0 in /usr/local/lib/python3.10/dist-packages (from tensorflow->eng-syl) (2.15.0)\n",
            "Requirement already satisfied: keras<2.16,>=2.15.0 in /usr/local/lib/python3.10/dist-packages (from tensorflow->eng-syl) (2.15.0)\n",
            "Requirement already satisfied: wheel<1.0,>=0.23.0 in /usr/local/lib/python3.10/dist-packages (from astunparse>=1.6.0->tensorflow->eng-syl) (0.43.0)\n",
            "Requirement already satisfied: google-auth<3,>=1.6.3 in /usr/local/lib/python3.10/dist-packages (from tensorboard<2.16,>=2.15->tensorflow->eng-syl) (2.27.0)\n",
            "Requirement already satisfied: google-auth-oauthlib<2,>=0.5 in /usr/local/lib/python3.10/dist-packages (from tensorboard<2.16,>=2.15->tensorflow->eng-syl) (1.2.0)\n",
            "Requirement already satisfied: markdown>=2.6.8 in /usr/local/lib/python3.10/dist-packages (from tensorboard<2.16,>=2.15->tensorflow->eng-syl) (3.6)\n",
            "Requirement already satisfied: requests<3,>=2.21.0 in /usr/local/lib/python3.10/dist-packages (from tensorboard<2.16,>=2.15->tensorflow->eng-syl) (2.31.0)\n",
            "Requirement already satisfied: tensorboard-data-server<0.8.0,>=0.7.0 in /usr/local/lib/python3.10/dist-packages (from tensorboard<2.16,>=2.15->tensorflow->eng-syl) (0.7.2)\n",
            "Requirement already satisfied: werkzeug>=1.0.1 in /usr/local/lib/python3.10/dist-packages (from tensorboard<2.16,>=2.15->tensorflow->eng-syl) (3.0.3)\n",
            "Requirement already satisfied: cachetools<6.0,>=2.0.0 in /usr/local/lib/python3.10/dist-packages (from google-auth<3,>=1.6.3->tensorboard<2.16,>=2.15->tensorflow->eng-syl) (5.3.3)\n",
            "Requirement already satisfied: pyasn1-modules>=0.2.1 in /usr/local/lib/python3.10/dist-packages (from google-auth<3,>=1.6.3->tensorboard<2.16,>=2.15->tensorflow->eng-syl) (0.4.0)\n",
            "Requirement already satisfied: rsa<5,>=3.1.4 in /usr/local/lib/python3.10/dist-packages (from google-auth<3,>=1.6.3->tensorboard<2.16,>=2.15->tensorflow->eng-syl) (4.9)\n",
            "Requirement already satisfied: requests-oauthlib>=0.7.0 in /usr/local/lib/python3.10/dist-packages (from google-auth-oauthlib<2,>=0.5->tensorboard<2.16,>=2.15->tensorflow->eng-syl) (1.3.1)\n",
            "Requirement already satisfied: charset-normalizer<4,>=2 in /usr/local/lib/python3.10/dist-packages (from requests<3,>=2.21.0->tensorboard<2.16,>=2.15->tensorflow->eng-syl) (3.3.2)\n",
            "Requirement already satisfied: idna<4,>=2.5 in /usr/local/lib/python3.10/dist-packages (from requests<3,>=2.21.0->tensorboard<2.16,>=2.15->tensorflow->eng-syl) (3.7)\n",
            "Requirement already satisfied: urllib3<3,>=1.21.1 in /usr/local/lib/python3.10/dist-packages (from requests<3,>=2.21.0->tensorboard<2.16,>=2.15->tensorflow->eng-syl) (2.0.7)\n",
            "Requirement already satisfied: certifi>=2017.4.17 in /usr/local/lib/python3.10/dist-packages (from requests<3,>=2.21.0->tensorboard<2.16,>=2.15->tensorflow->eng-syl) (2024.2.2)\n",
            "Requirement already satisfied: MarkupSafe>=2.1.1 in /usr/local/lib/python3.10/dist-packages (from werkzeug>=1.0.1->tensorboard<2.16,>=2.15->tensorflow->eng-syl) (2.1.5)\n",
            "Requirement already satisfied: pyasn1<0.7.0,>=0.4.6 in /usr/local/lib/python3.10/dist-packages (from pyasn1-modules>=0.2.1->google-auth<3,>=1.6.3->tensorboard<2.16,>=2.15->tensorflow->eng-syl) (0.6.0)\n",
            "Requirement already satisfied: oauthlib>=3.0.0 in /usr/local/lib/python3.10/dist-packages (from requests-oauthlib>=0.7.0->google-auth-oauthlib<2,>=0.5->tensorboard<2.16,>=2.15->tensorflow->eng-syl) (3.2.2)\n",
            "Installing collected packages: eng-syl\n",
            "Successfully installed eng-syl-4.0.1\n"
          ]
        }
      ]
    },
    {
      "cell_type": "code",
      "source": [
        "from eng_syl.syllabify import Syllabel\n",
        "\n",
        "transcribed_text = \"This is an example text spoken as syllables\""
      ],
      "metadata": {
        "id": "ymd0cwk1kh_8"
      },
      "execution_count": null,
      "outputs": []
    },
    {
      "cell_type": "code",
      "source": [
        "def text_to_syllables(text):\n",
        "    syllabler = Syllabel()\n",
        "    words = text.split()\n",
        "    syllable_text = []\n",
        "\n",
        "    for word in words:\n",
        "        syllables = syllabler.syllabify(word)\n",
        "        syllable_text.append(\"-\".join(syllables))\n",
        "\n",
        "    return \" \".join(syllable_text)\n",
        "\n",
        "syllabified_text = text_to_syllables(transcribed_text)\n",
        "print(syllabified_text)"
      ],
      "metadata": {
        "colab": {
          "base_uri": "https://localhost:8080/"
        },
        "id": "yxh0rAxth_1q",
        "outputId": "ea468fe2-848c-4ed9-fe91-6d553b0c8a0d"
      },
      "execution_count": null,
      "outputs": [
        {
          "output_type": "stream",
          "name": "stdout",
          "text": [
            "t-h-i-s i-s a-n e-x---a-m---p-l-e t-e-x-t s-p-o---k-e-n a-s s-y---l-l-a---b-l-e-s\n"
          ]
        }
      ]
    },
    {
      "cell_type": "code",
      "source": [
        "!pip install gTTS"
      ],
      "metadata": {
        "colab": {
          "base_uri": "https://localhost:8080/"
        },
        "collapsed": true,
        "id": "LHJqvGkbn3eO",
        "outputId": "d14ae33b-3d4f-4cac-b819-11d7efd088a5"
      },
      "execution_count": null,
      "outputs": [
        {
          "output_type": "stream",
          "name": "stdout",
          "text": [
            "Collecting gTTS\n",
            "  Downloading gTTS-2.5.1-py3-none-any.whl (29 kB)\n",
            "Requirement already satisfied: requests<3,>=2.27 in /usr/local/lib/python3.10/dist-packages (from gTTS) (2.31.0)\n",
            "Requirement already satisfied: click<8.2,>=7.1 in /usr/local/lib/python3.10/dist-packages (from gTTS) (8.1.7)\n",
            "Requirement already satisfied: charset-normalizer<4,>=2 in /usr/local/lib/python3.10/dist-packages (from requests<3,>=2.27->gTTS) (3.3.2)\n",
            "Requirement already satisfied: idna<4,>=2.5 in /usr/local/lib/python3.10/dist-packages (from requests<3,>=2.27->gTTS) (3.7)\n",
            "Requirement already satisfied: urllib3<3,>=1.21.1 in /usr/local/lib/python3.10/dist-packages (from requests<3,>=2.27->gTTS) (2.0.7)\n",
            "Requirement already satisfied: certifi>=2017.4.17 in /usr/local/lib/python3.10/dist-packages (from requests<3,>=2.27->gTTS) (2024.2.2)\n",
            "Installing collected packages: gTTS\n",
            "Successfully installed gTTS-2.5.1\n"
          ]
        }
      ]
    },
    {
      "cell_type": "code",
      "source": [
        "!gtts-cli 'This is an example text spoken as syllables' --output /content/test.mp3"
      ],
      "metadata": {
        "id": "lzBZuQZHrJG3"
      },
      "execution_count": null,
      "outputs": []
    },
    {
      "cell_type": "code",
      "source": [
        "!pip install openai-whisper"
      ],
      "metadata": {
        "colab": {
          "base_uri": "https://localhost:8080/"
        },
        "id": "PhCfsYZcBNYn",
        "outputId": "90088b50-7fdc-4195-a1ee-fceb199734d5"
      },
      "execution_count": null,
      "outputs": [
        {
          "output_type": "stream",
          "name": "stdout",
          "text": [
            "Requirement already satisfied: openai-whisper in /usr/local/lib/python3.10/dist-packages (20231117)\n",
            "Requirement already satisfied: triton<3,>=2.0.0 in /usr/local/lib/python3.10/dist-packages (from openai-whisper) (2.3.0)\n",
            "Requirement already satisfied: numba in /usr/local/lib/python3.10/dist-packages (from openai-whisper) (0.58.1)\n",
            "Requirement already satisfied: numpy in /usr/local/lib/python3.10/dist-packages (from openai-whisper) (1.25.2)\n",
            "Requirement already satisfied: torch in /usr/local/lib/python3.10/dist-packages (from openai-whisper) (2.3.0+cu121)\n",
            "Requirement already satisfied: tqdm in /usr/local/lib/python3.10/dist-packages (from openai-whisper) (4.66.4)\n",
            "Requirement already satisfied: more-itertools in /usr/local/lib/python3.10/dist-packages (from openai-whisper) (10.1.0)\n",
            "Requirement already satisfied: tiktoken in /usr/local/lib/python3.10/dist-packages (from openai-whisper) (0.7.0)\n",
            "Requirement already satisfied: filelock in /usr/local/lib/python3.10/dist-packages (from triton<3,>=2.0.0->openai-whisper) (3.14.0)\n",
            "Requirement already satisfied: llvmlite<0.42,>=0.41.0dev0 in /usr/local/lib/python3.10/dist-packages (from numba->openai-whisper) (0.41.1)\n",
            "Requirement already satisfied: regex>=2022.1.18 in /usr/local/lib/python3.10/dist-packages (from tiktoken->openai-whisper) (2024.5.15)\n",
            "Requirement already satisfied: requests>=2.26.0 in /usr/local/lib/python3.10/dist-packages (from tiktoken->openai-whisper) (2.31.0)\n",
            "Requirement already satisfied: typing-extensions>=4.8.0 in /usr/local/lib/python3.10/dist-packages (from torch->openai-whisper) (4.12.0)\n",
            "Requirement already satisfied: sympy in /usr/local/lib/python3.10/dist-packages (from torch->openai-whisper) (1.12.1)\n",
            "Requirement already satisfied: networkx in /usr/local/lib/python3.10/dist-packages (from torch->openai-whisper) (3.3)\n",
            "Requirement already satisfied: jinja2 in /usr/local/lib/python3.10/dist-packages (from torch->openai-whisper) (3.1.4)\n",
            "Requirement already satisfied: fsspec in /usr/local/lib/python3.10/dist-packages (from torch->openai-whisper) (2023.6.0)\n",
            "Requirement already satisfied: nvidia-cuda-nvrtc-cu12==12.1.105 in /usr/local/lib/python3.10/dist-packages (from torch->openai-whisper) (12.1.105)\n",
            "Requirement already satisfied: nvidia-cuda-runtime-cu12==12.1.105 in /usr/local/lib/python3.10/dist-packages (from torch->openai-whisper) (12.1.105)\n",
            "Requirement already satisfied: nvidia-cuda-cupti-cu12==12.1.105 in /usr/local/lib/python3.10/dist-packages (from torch->openai-whisper) (12.1.105)\n",
            "Requirement already satisfied: nvidia-cudnn-cu12==8.9.2.26 in /usr/local/lib/python3.10/dist-packages (from torch->openai-whisper) (8.9.2.26)\n",
            "Requirement already satisfied: nvidia-cublas-cu12==12.1.3.1 in /usr/local/lib/python3.10/dist-packages (from torch->openai-whisper) (12.1.3.1)\n",
            "Requirement already satisfied: nvidia-cufft-cu12==11.0.2.54 in /usr/local/lib/python3.10/dist-packages (from torch->openai-whisper) (11.0.2.54)\n",
            "Requirement already satisfied: nvidia-curand-cu12==10.3.2.106 in /usr/local/lib/python3.10/dist-packages (from torch->openai-whisper) (10.3.2.106)\n",
            "Requirement already satisfied: nvidia-cusolver-cu12==11.4.5.107 in /usr/local/lib/python3.10/dist-packages (from torch->openai-whisper) (11.4.5.107)\n",
            "Requirement already satisfied: nvidia-cusparse-cu12==12.1.0.106 in /usr/local/lib/python3.10/dist-packages (from torch->openai-whisper) (12.1.0.106)\n",
            "Requirement already satisfied: nvidia-nccl-cu12==2.20.5 in /usr/local/lib/python3.10/dist-packages (from torch->openai-whisper) (2.20.5)\n",
            "Requirement already satisfied: nvidia-nvtx-cu12==12.1.105 in /usr/local/lib/python3.10/dist-packages (from torch->openai-whisper) (12.1.105)\n",
            "Requirement already satisfied: nvidia-nvjitlink-cu12 in /usr/local/lib/python3.10/dist-packages (from nvidia-cusolver-cu12==11.4.5.107->torch->openai-whisper) (12.5.40)\n",
            "Requirement already satisfied: charset-normalizer<4,>=2 in /usr/local/lib/python3.10/dist-packages (from requests>=2.26.0->tiktoken->openai-whisper) (3.3.2)\n",
            "Requirement already satisfied: idna<4,>=2.5 in /usr/local/lib/python3.10/dist-packages (from requests>=2.26.0->tiktoken->openai-whisper) (3.7)\n",
            "Requirement already satisfied: urllib3<3,>=1.21.1 in /usr/local/lib/python3.10/dist-packages (from requests>=2.26.0->tiktoken->openai-whisper) (2.0.7)\n",
            "Requirement already satisfied: certifi>=2017.4.17 in /usr/local/lib/python3.10/dist-packages (from requests>=2.26.0->tiktoken->openai-whisper) (2024.2.2)\n",
            "Requirement already satisfied: MarkupSafe>=2.0 in /usr/local/lib/python3.10/dist-packages (from jinja2->torch->openai-whisper) (2.1.5)\n",
            "Requirement already satisfied: mpmath<1.4.0,>=1.1.0 in /usr/local/lib/python3.10/dist-packages (from sympy->torch->openai-whisper) (1.3.0)\n"
          ]
        }
      ]
    },
    {
      "cell_type": "code",
      "source": [
        "import whisper\n",
        "\n",
        "model = whisper.load_model(\"base\")\n",
        "result = model.transcribe(\"/content/test.mp3\")\n",
        "print(result[\"text\"])"
      ],
      "metadata": {
        "colab": {
          "base_uri": "https://localhost:8080/"
        },
        "id": "6n5JwjEOBiaH",
        "outputId": "a99d0099-5c03-459c-d836-cdd233158bf7"
      },
      "execution_count": null,
      "outputs": [
        {
          "output_type": "stream",
          "name": "stderr",
          "text": [
            "100%|███████████████████████████████████████| 139M/139M [00:02<00:00, 66.9MiB/s]\n",
            "/usr/local/lib/python3.10/dist-packages/whisper/transcribe.py:115: UserWarning: FP16 is not supported on CPU; using FP32 instead\n",
            "  warnings.warn(\"FP16 is not supported on CPU; using FP32 instead\")\n"
          ]
        },
        {
          "output_type": "stream",
          "name": "stdout",
          "text": [
            " Come over to thatbeastars.com trunk vocal today and try it for yourself right now.\n"
          ]
        }
      ]
    },
    {
      "cell_type": "code",
      "source": [
        "transcribed_text = result[\"text\"]"
      ],
      "metadata": {
        "id": "tYU_QLSfCHXR"
      },
      "execution_count": null,
      "outputs": []
    },
    {
      "cell_type": "code",
      "source": [
        "with open(\"/content/transcribed_text.txt\", \"w\") as file:\n",
        "    file.write(transcribed_text)"
      ],
      "metadata": {
        "id": "8MfSO8c4uYgc"
      },
      "execution_count": null,
      "outputs": []
    },
    {
      "cell_type": "code",
      "source": [
        "%rm -r /content/audio_syllables/"
      ],
      "metadata": {
        "id": "jjlV-SCcCQEr"
      },
      "execution_count": null,
      "outputs": []
    },
    {
      "cell_type": "code",
      "source": [
        "!pip3 install whisper-timestamped"
      ],
      "metadata": {
        "colab": {
          "base_uri": "https://localhost:8080/"
        },
        "collapsed": true,
        "id": "rZkN5h0RsOKr",
        "outputId": "c2a231cc-3f28-4fe1-e249-293b3afa66bb"
      },
      "execution_count": null,
      "outputs": [
        {
          "output_type": "stream",
          "name": "stdout",
          "text": [
            "Collecting whisper-timestamped\n",
            "  Downloading whisper_timestamped-1.15.4-py3-none-any.whl (53 kB)\n",
            "\u001b[?25l     \u001b[90m━━━━━━━━━━━━━━━━━━━━━━━━━━━━━━━━━━━━━━━━\u001b[0m \u001b[32m0.0/53.5 kB\u001b[0m \u001b[31m?\u001b[0m eta \u001b[36m-:--:--\u001b[0m\r\u001b[2K     \u001b[90m━━━━━━━━━━━━━━━━━━━━━━━━━━━━━━━━━━━━━━━━\u001b[0m \u001b[32m53.5/53.5 kB\u001b[0m \u001b[31m2.1 MB/s\u001b[0m eta \u001b[36m0:00:00\u001b[0m\n",
            "\u001b[?25hRequirement already satisfied: Cython in /usr/local/lib/python3.10/dist-packages (from whisper-timestamped) (3.0.10)\n",
            "Collecting dtw-python (from whisper-timestamped)\n",
            "  Downloading dtw_python-1.5.1-cp310-cp310-manylinux_2_17_x86_64.manylinux2014_x86_64.whl (770 kB)\n",
            "\u001b[2K     \u001b[90m━━━━━━━━━━━━━━━━━━━━━━━━━━━━━━━━━━━━━━━━\u001b[0m \u001b[32m770.5/770.5 kB\u001b[0m \u001b[31m17.4 MB/s\u001b[0m eta \u001b[36m0:00:00\u001b[0m\n",
            "\u001b[?25hCollecting openai-whisper (from whisper-timestamped)\n",
            "  Downloading openai-whisper-20231117.tar.gz (798 kB)\n",
            "\u001b[2K     \u001b[90m━━━━━━━━━━━━━━━━━━━━━━━━━━━━━━━━━━━━━━━━\u001b[0m \u001b[32m798.6/798.6 kB\u001b[0m \u001b[31m29.9 MB/s\u001b[0m eta \u001b[36m0:00:00\u001b[0m\n",
            "\u001b[?25h  Installing build dependencies ... \u001b[?25l\u001b[?25hdone\n",
            "  Getting requirements to build wheel ... \u001b[?25l\u001b[?25hdone\n",
            "  Preparing metadata (pyproject.toml) ... \u001b[?25l\u001b[?25hdone\n",
            "Requirement already satisfied: scipy in /usr/local/lib/python3.10/dist-packages (from dtw-python->whisper-timestamped) (1.11.4)\n",
            "Requirement already satisfied: numpy>=1.23.5 in /usr/local/lib/python3.10/dist-packages (from dtw-python->whisper-timestamped) (1.25.2)\n",
            "Requirement already satisfied: triton<3,>=2.0.0 in /usr/local/lib/python3.10/dist-packages (from openai-whisper->whisper-timestamped) (2.3.0)\n",
            "Requirement already satisfied: numba in /usr/local/lib/python3.10/dist-packages (from openai-whisper->whisper-timestamped) (0.58.1)\n",
            "Requirement already satisfied: torch in /usr/local/lib/python3.10/dist-packages (from openai-whisper->whisper-timestamped) (2.3.0+cu121)\n",
            "Requirement already satisfied: tqdm in /usr/local/lib/python3.10/dist-packages (from openai-whisper->whisper-timestamped) (4.66.4)\n",
            "Requirement already satisfied: more-itertools in /usr/local/lib/python3.10/dist-packages (from openai-whisper->whisper-timestamped) (10.1.0)\n",
            "Collecting tiktoken (from openai-whisper->whisper-timestamped)\n",
            "  Downloading tiktoken-0.7.0-cp310-cp310-manylinux_2_17_x86_64.manylinux2014_x86_64.whl (1.1 MB)\n",
            "\u001b[2K     \u001b[90m━━━━━━━━━━━━━━━━━━━━━━━━━━━━━━━━━━━━━━━━\u001b[0m \u001b[32m1.1/1.1 MB\u001b[0m \u001b[31m42.2 MB/s\u001b[0m eta \u001b[36m0:00:00\u001b[0m\n",
            "\u001b[?25hRequirement already satisfied: filelock in /usr/local/lib/python3.10/dist-packages (from triton<3,>=2.0.0->openai-whisper->whisper-timestamped) (3.14.0)\n",
            "Requirement already satisfied: llvmlite<0.42,>=0.41.0dev0 in /usr/local/lib/python3.10/dist-packages (from numba->openai-whisper->whisper-timestamped) (0.41.1)\n",
            "Requirement already satisfied: regex>=2022.1.18 in /usr/local/lib/python3.10/dist-packages (from tiktoken->openai-whisper->whisper-timestamped) (2024.5.15)\n",
            "Requirement already satisfied: requests>=2.26.0 in /usr/local/lib/python3.10/dist-packages (from tiktoken->openai-whisper->whisper-timestamped) (2.31.0)\n",
            "Requirement already satisfied: typing-extensions>=4.8.0 in /usr/local/lib/python3.10/dist-packages (from torch->openai-whisper->whisper-timestamped) (4.12.0)\n",
            "Requirement already satisfied: sympy in /usr/local/lib/python3.10/dist-packages (from torch->openai-whisper->whisper-timestamped) (1.12.1)\n",
            "Requirement already satisfied: networkx in /usr/local/lib/python3.10/dist-packages (from torch->openai-whisper->whisper-timestamped) (3.3)\n",
            "Requirement already satisfied: jinja2 in /usr/local/lib/python3.10/dist-packages (from torch->openai-whisper->whisper-timestamped) (3.1.4)\n",
            "Requirement already satisfied: fsspec in /usr/local/lib/python3.10/dist-packages (from torch->openai-whisper->whisper-timestamped) (2023.6.0)\n",
            "Collecting nvidia-cuda-nvrtc-cu12==12.1.105 (from torch->openai-whisper->whisper-timestamped)\n",
            "  Using cached nvidia_cuda_nvrtc_cu12-12.1.105-py3-none-manylinux1_x86_64.whl (23.7 MB)\n",
            "Collecting nvidia-cuda-runtime-cu12==12.1.105 (from torch->openai-whisper->whisper-timestamped)\n",
            "  Using cached nvidia_cuda_runtime_cu12-12.1.105-py3-none-manylinux1_x86_64.whl (823 kB)\n",
            "Collecting nvidia-cuda-cupti-cu12==12.1.105 (from torch->openai-whisper->whisper-timestamped)\n",
            "  Using cached nvidia_cuda_cupti_cu12-12.1.105-py3-none-manylinux1_x86_64.whl (14.1 MB)\n",
            "Collecting nvidia-cudnn-cu12==8.9.2.26 (from torch->openai-whisper->whisper-timestamped)\n",
            "  Using cached nvidia_cudnn_cu12-8.9.2.26-py3-none-manylinux1_x86_64.whl (731.7 MB)\n",
            "Collecting nvidia-cublas-cu12==12.1.3.1 (from torch->openai-whisper->whisper-timestamped)\n",
            "  Using cached nvidia_cublas_cu12-12.1.3.1-py3-none-manylinux1_x86_64.whl (410.6 MB)\n",
            "Collecting nvidia-cufft-cu12==11.0.2.54 (from torch->openai-whisper->whisper-timestamped)\n",
            "  Using cached nvidia_cufft_cu12-11.0.2.54-py3-none-manylinux1_x86_64.whl (121.6 MB)\n",
            "Collecting nvidia-curand-cu12==10.3.2.106 (from torch->openai-whisper->whisper-timestamped)\n",
            "  Using cached nvidia_curand_cu12-10.3.2.106-py3-none-manylinux1_x86_64.whl (56.5 MB)\n",
            "Collecting nvidia-cusolver-cu12==11.4.5.107 (from torch->openai-whisper->whisper-timestamped)\n",
            "  Using cached nvidia_cusolver_cu12-11.4.5.107-py3-none-manylinux1_x86_64.whl (124.2 MB)\n",
            "Collecting nvidia-cusparse-cu12==12.1.0.106 (from torch->openai-whisper->whisper-timestamped)\n",
            "  Using cached nvidia_cusparse_cu12-12.1.0.106-py3-none-manylinux1_x86_64.whl (196.0 MB)\n",
            "Collecting nvidia-nccl-cu12==2.20.5 (from torch->openai-whisper->whisper-timestamped)\n",
            "  Using cached nvidia_nccl_cu12-2.20.5-py3-none-manylinux2014_x86_64.whl (176.2 MB)\n",
            "Collecting nvidia-nvtx-cu12==12.1.105 (from torch->openai-whisper->whisper-timestamped)\n",
            "  Using cached nvidia_nvtx_cu12-12.1.105-py3-none-manylinux1_x86_64.whl (99 kB)\n",
            "Collecting nvidia-nvjitlink-cu12 (from nvidia-cusolver-cu12==11.4.5.107->torch->openai-whisper->whisper-timestamped)\n",
            "  Downloading nvidia_nvjitlink_cu12-12.5.40-py3-none-manylinux2014_x86_64.whl (21.3 MB)\n",
            "\u001b[2K     \u001b[90m━━━━━━━━━━━━━━━━━━━━━━━━━━━━━━━━━━━━━━━━\u001b[0m \u001b[32m21.3/21.3 MB\u001b[0m \u001b[31m42.4 MB/s\u001b[0m eta \u001b[36m0:00:00\u001b[0m\n",
            "\u001b[?25hRequirement already satisfied: charset-normalizer<4,>=2 in /usr/local/lib/python3.10/dist-packages (from requests>=2.26.0->tiktoken->openai-whisper->whisper-timestamped) (3.3.2)\n",
            "Requirement already satisfied: idna<4,>=2.5 in /usr/local/lib/python3.10/dist-packages (from requests>=2.26.0->tiktoken->openai-whisper->whisper-timestamped) (3.7)\n",
            "Requirement already satisfied: urllib3<3,>=1.21.1 in /usr/local/lib/python3.10/dist-packages (from requests>=2.26.0->tiktoken->openai-whisper->whisper-timestamped) (2.0.7)\n",
            "Requirement already satisfied: certifi>=2017.4.17 in /usr/local/lib/python3.10/dist-packages (from requests>=2.26.0->tiktoken->openai-whisper->whisper-timestamped) (2024.2.2)\n",
            "Requirement already satisfied: MarkupSafe>=2.0 in /usr/local/lib/python3.10/dist-packages (from jinja2->torch->openai-whisper->whisper-timestamped) (2.1.5)\n",
            "Requirement already satisfied: mpmath<1.4.0,>=1.1.0 in /usr/local/lib/python3.10/dist-packages (from sympy->torch->openai-whisper->whisper-timestamped) (1.3.0)\n",
            "Building wheels for collected packages: openai-whisper\n",
            "  Building wheel for openai-whisper (pyproject.toml) ... \u001b[?25l\u001b[?25hdone\n",
            "  Created wheel for openai-whisper: filename=openai_whisper-20231117-py3-none-any.whl size=801358 sha256=10d91a39f049b5f43caa81ece233e9c2b7f32fdd0e0593034eafc6dbb3b16672\n",
            "  Stored in directory: /root/.cache/pip/wheels/d0/85/e1/9361b4cbea7dd4b7f6702fa4c3afc94877952eeb2b62f45f56\n",
            "Successfully built openai-whisper\n",
            "Installing collected packages: nvidia-nvtx-cu12, nvidia-nvjitlink-cu12, nvidia-nccl-cu12, nvidia-curand-cu12, nvidia-cufft-cu12, nvidia-cuda-runtime-cu12, nvidia-cuda-nvrtc-cu12, nvidia-cuda-cupti-cu12, nvidia-cublas-cu12, tiktoken, nvidia-cusparse-cu12, nvidia-cudnn-cu12, dtw-python, nvidia-cusolver-cu12, openai-whisper, whisper-timestamped\n",
            "Successfully installed dtw-python-1.5.1 nvidia-cublas-cu12-12.1.3.1 nvidia-cuda-cupti-cu12-12.1.105 nvidia-cuda-nvrtc-cu12-12.1.105 nvidia-cuda-runtime-cu12-12.1.105 nvidia-cudnn-cu12-8.9.2.26 nvidia-cufft-cu12-11.0.2.54 nvidia-curand-cu12-10.3.2.106 nvidia-cusolver-cu12-11.4.5.107 nvidia-cusparse-cu12-12.1.0.106 nvidia-nccl-cu12-2.20.5 nvidia-nvjitlink-cu12-12.5.40 nvidia-nvtx-cu12-12.1.105 openai-whisper-20231117 tiktoken-0.7.0 whisper-timestamped-1.15.4\n"
          ]
        }
      ]
    },
    {
      "cell_type": "code",
      "source": [
        "!pip3 install onnxruntime torchaudio"
      ],
      "metadata": {
        "colab": {
          "base_uri": "https://localhost:8080/"
        },
        "collapsed": true,
        "id": "TYOB7rsW0BtH",
        "outputId": "b0fd0ad6-5ee9-4bd3-b1bd-f43876bf5ec6"
      },
      "execution_count": null,
      "outputs": [
        {
          "output_type": "stream",
          "name": "stdout",
          "text": [
            "Collecting onnxruntime\n",
            "  Downloading onnxruntime-1.18.0-cp310-cp310-manylinux_2_27_x86_64.manylinux_2_28_x86_64.whl (6.8 MB)\n",
            "\u001b[?25l     \u001b[90m━━━━━━━━━━━━━━━━━━━━━━━━━━━━━━━━━━━━━━━━\u001b[0m \u001b[32m0.0/6.8 MB\u001b[0m \u001b[31m?\u001b[0m eta \u001b[36m-:--:--\u001b[0m\r\u001b[2K     \u001b[91m━━━━━━\u001b[0m\u001b[91m╸\u001b[0m\u001b[90m━━━━━━━━━━━━━━━━━━━━━━━━━━━━━━━━━\u001b[0m \u001b[32m1.1/6.8 MB\u001b[0m \u001b[31m33.8 MB/s\u001b[0m eta \u001b[36m0:00:01\u001b[0m\r\u001b[2K     \u001b[91m━━━━━━━━━━━━━━━━━━━━━━━━━━━━━━━━━━━━━\u001b[0m\u001b[91m╸\u001b[0m\u001b[90m━━\u001b[0m \u001b[32m6.4/6.8 MB\u001b[0m \u001b[31m92.4 MB/s\u001b[0m eta \u001b[36m0:00:01\u001b[0m\r\u001b[2K     \u001b[91m━━━━━━━━━━━━━━━━━━━━━━━━━━━━━━━━━━━━━━━\u001b[0m\u001b[91m╸\u001b[0m \u001b[32m6.8/6.8 MB\u001b[0m \u001b[31m91.9 MB/s\u001b[0m eta \u001b[36m0:00:01\u001b[0m\r\u001b[2K     \u001b[90m━━━━━━━━━━━━━━━━━━━━━━━━━━━━━━━━━━━━━━━━\u001b[0m \u001b[32m6.8/6.8 MB\u001b[0m \u001b[31m57.2 MB/s\u001b[0m eta \u001b[36m0:00:00\u001b[0m\n",
            "\u001b[?25hRequirement already satisfied: torchaudio in /usr/local/lib/python3.10/dist-packages (2.3.0+cu121)\n",
            "Collecting coloredlogs (from onnxruntime)\n",
            "  Downloading coloredlogs-15.0.1-py2.py3-none-any.whl (46 kB)\n",
            "\u001b[2K     \u001b[90m━━━━━━━━━━━━━━━━━━━━━━━━━━━━━━━━━━━━━━━━\u001b[0m \u001b[32m46.0/46.0 kB\u001b[0m \u001b[31m5.0 MB/s\u001b[0m eta \u001b[36m0:00:00\u001b[0m\n",
            "\u001b[?25hRequirement already satisfied: flatbuffers in /usr/local/lib/python3.10/dist-packages (from onnxruntime) (24.3.25)\n",
            "Requirement already satisfied: numpy>=1.21.6 in /usr/local/lib/python3.10/dist-packages (from onnxruntime) (1.25.2)\n",
            "Requirement already satisfied: packaging in /usr/local/lib/python3.10/dist-packages (from onnxruntime) (24.0)\n",
            "Requirement already satisfied: protobuf in /usr/local/lib/python3.10/dist-packages (from onnxruntime) (3.20.3)\n",
            "Requirement already satisfied: sympy in /usr/local/lib/python3.10/dist-packages (from onnxruntime) (1.12.1)\n",
            "Requirement already satisfied: torch==2.3.0 in /usr/local/lib/python3.10/dist-packages (from torchaudio) (2.3.0+cu121)\n",
            "Requirement already satisfied: filelock in /usr/local/lib/python3.10/dist-packages (from torch==2.3.0->torchaudio) (3.14.0)\n",
            "Requirement already satisfied: typing-extensions>=4.8.0 in /usr/local/lib/python3.10/dist-packages (from torch==2.3.0->torchaudio) (4.12.0)\n",
            "Requirement already satisfied: networkx in /usr/local/lib/python3.10/dist-packages (from torch==2.3.0->torchaudio) (3.3)\n",
            "Requirement already satisfied: jinja2 in /usr/local/lib/python3.10/dist-packages (from torch==2.3.0->torchaudio) (3.1.4)\n",
            "Requirement already satisfied: fsspec in /usr/local/lib/python3.10/dist-packages (from torch==2.3.0->torchaudio) (2023.6.0)\n",
            "Requirement already satisfied: nvidia-cuda-nvrtc-cu12==12.1.105 in /usr/local/lib/python3.10/dist-packages (from torch==2.3.0->torchaudio) (12.1.105)\n",
            "Requirement already satisfied: nvidia-cuda-runtime-cu12==12.1.105 in /usr/local/lib/python3.10/dist-packages (from torch==2.3.0->torchaudio) (12.1.105)\n",
            "Requirement already satisfied: nvidia-cuda-cupti-cu12==12.1.105 in /usr/local/lib/python3.10/dist-packages (from torch==2.3.0->torchaudio) (12.1.105)\n",
            "Requirement already satisfied: nvidia-cudnn-cu12==8.9.2.26 in /usr/local/lib/python3.10/dist-packages (from torch==2.3.0->torchaudio) (8.9.2.26)\n",
            "Requirement already satisfied: nvidia-cublas-cu12==12.1.3.1 in /usr/local/lib/python3.10/dist-packages (from torch==2.3.0->torchaudio) (12.1.3.1)\n",
            "Requirement already satisfied: nvidia-cufft-cu12==11.0.2.54 in /usr/local/lib/python3.10/dist-packages (from torch==2.3.0->torchaudio) (11.0.2.54)\n",
            "Requirement already satisfied: nvidia-curand-cu12==10.3.2.106 in /usr/local/lib/python3.10/dist-packages (from torch==2.3.0->torchaudio) (10.3.2.106)\n",
            "Requirement already satisfied: nvidia-cusolver-cu12==11.4.5.107 in /usr/local/lib/python3.10/dist-packages (from torch==2.3.0->torchaudio) (11.4.5.107)\n",
            "Requirement already satisfied: nvidia-cusparse-cu12==12.1.0.106 in /usr/local/lib/python3.10/dist-packages (from torch==2.3.0->torchaudio) (12.1.0.106)\n",
            "Requirement already satisfied: nvidia-nccl-cu12==2.20.5 in /usr/local/lib/python3.10/dist-packages (from torch==2.3.0->torchaudio) (2.20.5)\n",
            "Requirement already satisfied: nvidia-nvtx-cu12==12.1.105 in /usr/local/lib/python3.10/dist-packages (from torch==2.3.0->torchaudio) (12.1.105)\n",
            "Requirement already satisfied: triton==2.3.0 in /usr/local/lib/python3.10/dist-packages (from torch==2.3.0->torchaudio) (2.3.0)\n",
            "Requirement already satisfied: nvidia-nvjitlink-cu12 in /usr/local/lib/python3.10/dist-packages (from nvidia-cusolver-cu12==11.4.5.107->torch==2.3.0->torchaudio) (12.5.40)\n",
            "Collecting humanfriendly>=9.1 (from coloredlogs->onnxruntime)\n",
            "  Downloading humanfriendly-10.0-py2.py3-none-any.whl (86 kB)\n",
            "\u001b[2K     \u001b[90m━━━━━━━━━━━━━━━━━━━━━━━━━━━━━━━━━━━━━━━━\u001b[0m \u001b[32m86.8/86.8 kB\u001b[0m \u001b[31m9.1 MB/s\u001b[0m eta \u001b[36m0:00:00\u001b[0m\n",
            "\u001b[?25hRequirement already satisfied: mpmath<1.4.0,>=1.1.0 in /usr/local/lib/python3.10/dist-packages (from sympy->onnxruntime) (1.3.0)\n",
            "Requirement already satisfied: MarkupSafe>=2.0 in /usr/local/lib/python3.10/dist-packages (from jinja2->torch==2.3.0->torchaudio) (2.1.5)\n",
            "Installing collected packages: humanfriendly, coloredlogs, onnxruntime\n",
            "Successfully installed coloredlogs-15.0.1 humanfriendly-10.0 onnxruntime-1.18.0\n"
          ]
        }
      ]
    },
    {
      "cell_type": "code",
      "source": [
        "import whisper_timestamped as whisper\n",
        "import json\n",
        "\n",
        "# Load the audio file\n",
        "audio = whisper.load_audio(\"/content/test.mp3\")\n",
        "\n",
        "# Load the Whisper model\n",
        "model = whisper.load_model(\"tiny\", device=\"cpu\")\n",
        "\n",
        "# Transcribe the audio\n",
        "result = whisper.transcribe(model, audio, language=\"en\")\n",
        "\n",
        "# Print the result\n",
        "print(json.dumps(result, indent=2, ensure_ascii=False))\n",
        "\n",
        "# Save the result to a JSON file\n",
        "json_file_path = \"/content/timestamp.json\"\n",
        "with open(json_file_path, \"w\", encoding=\"utf-8\") as f:\n",
        "    json.dump(result, f, indent=2, ensure_ascii=False)\n",
        "\n",
        "print(f\"Transcription saved to {json_file_path}\")\n"
      ],
      "metadata": {
        "colab": {
          "base_uri": "https://localhost:8080/"
        },
        "collapsed": true,
        "id": "ipbUxkGg0HvX",
        "outputId": "61786fbe-56ba-4fe3-c8a8-c0e8a0d85258"
      },
      "execution_count": null,
      "outputs": [
        {
          "output_type": "stream",
          "name": "stderr",
          "text": [
            "100%|██████████| 904/904 [00:02<00:00, 353.57frames/s]"
          ]
        },
        {
          "output_type": "stream",
          "name": "stdout",
          "text": [
            "{\n",
            "  \"text\": \" Come over to thebeetstars.com, trunk vocal today and try it for yourself right now.\",\n",
            "  \"segments\": [\n",
            "    {\n",
            "      \"id\": 0,\n",
            "      \"seek\": 0,\n",
            "      \"start\": 0.5,\n",
            "      \"end\": 3.74,\n",
            "      \"text\": \" Come over to thebeetstars.com,\",\n",
            "      \"tokens\": [\n",
            "        50364,\n",
            "        2492,\n",
            "        670,\n",
            "        281,\n",
            "        264,\n",
            "        650,\n",
            "        302,\n",
            "        46903,\n",
            "        13,\n",
            "        1112,\n",
            "        11,\n",
            "        50546\n",
            "      ],\n",
            "      \"temperature\": 0.0,\n",
            "      \"avg_logprob\": -0.5415030992948092,\n",
            "      \"compression_ratio\": 1.0506329113924051,\n",
            "      \"no_speech_prob\": 0.07878457754850388,\n",
            "      \"confidence\": 0.632,\n",
            "      \"words\": [\n",
            "        {\n",
            "          \"text\": \"Come\",\n",
            "          \"start\": 0.5,\n",
            "          \"end\": 0.8,\n",
            "          \"confidence\": 0.485\n",
            "        },\n",
            "        {\n",
            "          \"text\": \"over\",\n",
            "          \"start\": 0.8,\n",
            "          \"end\": 1.3,\n",
            "          \"confidence\": 0.97\n",
            "        },\n",
            "        {\n",
            "          \"text\": \"to\",\n",
            "          \"start\": 1.3,\n",
            "          \"end\": 1.58,\n",
            "          \"confidence\": 0.997\n",
            "        },\n",
            "        {\n",
            "          \"text\": \"thebeetstars.com,\",\n",
            "          \"start\": 1.58,\n",
            "          \"end\": 3.74,\n",
            "          \"confidence\": 0.57\n",
            "        }\n",
            "      ]\n",
            "    },\n",
            "    {\n",
            "      \"id\": 1,\n",
            "      \"seek\": 0,\n",
            "      \"start\": 3.82,\n",
            "      \"end\": 8.54,\n",
            "      \"text\": \" trunk vocal today and try it for yourself right now.\",\n",
            "      \"tokens\": [\n",
            "        50546,\n",
            "        19849,\n",
            "        11657,\n",
            "        965,\n",
            "        293,\n",
            "        853,\n",
            "        309,\n",
            "        337,\n",
            "        1803,\n",
            "        558,\n",
            "        586,\n",
            "        13,\n",
            "        50796\n",
            "      ],\n",
            "      \"temperature\": 0.0,\n",
            "      \"avg_logprob\": -0.5415030992948092,\n",
            "      \"compression_ratio\": 1.0506329113924051,\n",
            "      \"no_speech_prob\": 0.07878457754850388,\n",
            "      \"confidence\": 0.763,\n",
            "      \"words\": [\n",
            "        {\n",
            "          \"text\": \"trunk\",\n",
            "          \"start\": 3.82,\n",
            "          \"end\": 4.24,\n",
            "          \"confidence\": 0.447\n",
            "        },\n",
            "        {\n",
            "          \"text\": \"vocal\",\n",
            "          \"start\": 4.24,\n",
            "          \"end\": 4.62,\n",
            "          \"confidence\": 0.783\n",
            "        },\n",
            "        {\n",
            "          \"text\": \"today\",\n",
            "          \"start\": 4.62,\n",
            "          \"end\": 5.2,\n",
            "          \"confidence\": 0.974\n",
            "        },\n",
            "        {\n",
            "          \"text\": \"and\",\n",
            "          \"start\": 5.2,\n",
            "          \"end\": 5.76,\n",
            "          \"confidence\": 0.543\n",
            "        },\n",
            "        {\n",
            "          \"text\": \"try\",\n",
            "          \"start\": 5.76,\n",
            "          \"end\": 6.22,\n",
            "          \"confidence\": 0.65\n",
            "        },\n",
            "        {\n",
            "          \"text\": \"it\",\n",
            "          \"start\": 6.22,\n",
            "          \"end\": 6.5,\n",
            "          \"confidence\": 0.801\n",
            "        },\n",
            "        {\n",
            "          \"text\": \"for\",\n",
            "          \"start\": 6.5,\n",
            "          \"end\": 6.66,\n",
            "          \"confidence\": 0.977\n",
            "        },\n",
            "        {\n",
            "          \"text\": \"yourself\",\n",
            "          \"start\": 6.66,\n",
            "          \"end\": 7.48,\n",
            "          \"confidence\": 0.955\n",
            "        },\n",
            "        {\n",
            "          \"text\": \"right\",\n",
            "          \"start\": 7.48,\n",
            "          \"end\": 8.2,\n",
            "          \"confidence\": 0.748\n",
            "        },\n",
            "        {\n",
            "          \"text\": \"now.\",\n",
            "          \"start\": 8.2,\n",
            "          \"end\": 8.54,\n",
            "          \"confidence\": 0.997\n",
            "        }\n",
            "      ]\n",
            "    }\n",
            "  ],\n",
            "  \"language\": \"en\"\n",
            "}\n",
            "Transcription saved to /content/timestamp.json\n"
          ]
        },
        {
          "output_type": "stream",
          "name": "stderr",
          "text": [
            "\n"
          ]
        }
      ]
    },
    {
      "cell_type": "code",
      "source": [
        "!pip install pydub"
      ],
      "metadata": {
        "colab": {
          "base_uri": "https://localhost:8080/"
        },
        "id": "hzH1tcEn1NuN",
        "outputId": "3bc99202-9550-4d16-9725-b9983428afe5"
      },
      "execution_count": null,
      "outputs": [
        {
          "output_type": "stream",
          "name": "stdout",
          "text": [
            "Collecting pydub\n",
            "  Downloading pydub-0.25.1-py2.py3-none-any.whl (32 kB)\n",
            "Installing collected packages: pydub\n",
            "Successfully installed pydub-0.25.1\n"
          ]
        }
      ]
    },
    {
      "cell_type": "code",
      "source": [
        "# Load the JSON data from the file\n",
        "json_file_path = \"/content/timestamp.json\"\n",
        "with open(json_file_path, \"r\", encoding=\"utf-8\") as f:\n",
        "    json_data = json.load(f)\n",
        "\n",
        "# Extract words from the JSON data and break them into syllables\n",
        "for segment in json_data[\"segments\"]:\n",
        "    words = segment[\"words\"]\n",
        "    for word in words:\n",
        "        word_text = word[\"text\"]\n",
        "        syllables = text_to_syllables(word_text)\n",
        "        word[\"syllables\"] = syllables\n",
        "\n",
        "# Save the modified JSON with syllables\n",
        "json_file_with_syllables_path = \"/content/timestamp_syllables.json\"\n",
        "with open(json_file_with_syllables_path, \"w\", encoding=\"utf-8\") as f:\n",
        "    json.dump(json_data, f, indent=2, ensure_ascii=False)\n",
        "\n",
        "print(f\"Transcription with syllables saved to {json_file_with_syllables_path}\")\n",
        "\n",
        "# Print the modified JSON data for inspection\n",
        "import pprint\n",
        "pp = pprint.PrettyPrinter(indent=2)\n",
        "pp.pprint(json_data)"
      ],
      "metadata": {
        "colab": {
          "base_uri": "https://localhost:8080/"
        },
        "id": "4mAiyuZz0shd",
        "outputId": "3a6c2d8c-3a83-4c1a-dea6-763564eaa8f9"
      },
      "execution_count": null,
      "outputs": [
        {
          "output_type": "stream",
          "name": "stdout",
          "text": [
            "Transcription with syllables saved to /content/timestamp_syllables.json\n",
            "{ 'language': 'en',\n",
            "  'segments': [ { 'avg_logprob': -0.5415030992948092,\n",
            "                  'compression_ratio': 1.0506329113924051,\n",
            "                  'confidence': 0.632,\n",
            "                  'end': 3.74,\n",
            "                  'id': 0,\n",
            "                  'no_speech_prob': 0.07878457754850388,\n",
            "                  'seek': 0,\n",
            "                  'start': 0.5,\n",
            "                  'temperature': 0.0,\n",
            "                  'text': ' Come over to thebeetstars.com,',\n",
            "                  'tokens': [ 50364,\n",
            "                              2492,\n",
            "                              670,\n",
            "                              281,\n",
            "                              264,\n",
            "                              650,\n",
            "                              302,\n",
            "                              46903,\n",
            "                              13,\n",
            "                              1112,\n",
            "                              11,\n",
            "                              50546],\n",
            "                  'words': [ { 'confidence': 0.485,\n",
            "                               'end': 0.8,\n",
            "                               'start': 0.5,\n",
            "                               'syllables': ['Come'],\n",
            "                               'text': 'Come'},\n",
            "                             { 'confidence': 0.97,\n",
            "                               'end': 1.3,\n",
            "                               'start': 0.8,\n",
            "                               'syllables': ['o-ver'],\n",
            "                               'text': 'over'},\n",
            "                             { 'confidence': 0.997,\n",
            "                               'end': 1.58,\n",
            "                               'start': 1.3,\n",
            "                               'syllables': ['to'],\n",
            "                               'text': 'to'},\n",
            "                             { 'confidence': 0.57,\n",
            "                               'end': 3.74,\n",
            "                               'start': 1.58,\n",
            "                               'syllables': ['the-beet-stars-com'],\n",
            "                               'text': 'thebeetstars.com,'}]},\n",
            "                { 'avg_logprob': -0.5415030992948092,\n",
            "                  'compression_ratio': 1.0506329113924051,\n",
            "                  'confidence': 0.763,\n",
            "                  'end': 8.54,\n",
            "                  'id': 1,\n",
            "                  'no_speech_prob': 0.07878457754850388,\n",
            "                  'seek': 0,\n",
            "                  'start': 3.82,\n",
            "                  'temperature': 0.0,\n",
            "                  'text': ' trunk vocal today and try it for yourself right '\n",
            "                          'now.',\n",
            "                  'tokens': [ 50546,\n",
            "                              19849,\n",
            "                              11657,\n",
            "                              965,\n",
            "                              293,\n",
            "                              853,\n",
            "                              309,\n",
            "                              337,\n",
            "                              1803,\n",
            "                              558,\n",
            "                              586,\n",
            "                              13,\n",
            "                              50796],\n",
            "                  'words': [ { 'confidence': 0.447,\n",
            "                               'end': 4.24,\n",
            "                               'start': 3.82,\n",
            "                               'syllables': ['trunk'],\n",
            "                               'text': 'trunk'},\n",
            "                             { 'confidence': 0.783,\n",
            "                               'end': 4.62,\n",
            "                               'start': 4.24,\n",
            "                               'syllables': ['vo-cal'],\n",
            "                               'text': 'vocal'},\n",
            "                             { 'confidence': 0.974,\n",
            "                               'end': 5.2,\n",
            "                               'start': 4.62,\n",
            "                               'syllables': ['to-day'],\n",
            "                               'text': 'today'},\n",
            "                             { 'confidence': 0.543,\n",
            "                               'end': 5.76,\n",
            "                               'start': 5.2,\n",
            "                               'syllables': ['and'],\n",
            "                               'text': 'and'},\n",
            "                             { 'confidence': 0.65,\n",
            "                               'end': 6.22,\n",
            "                               'start': 5.76,\n",
            "                               'syllables': ['try'],\n",
            "                               'text': 'try'},\n",
            "                             { 'confidence': 0.801,\n",
            "                               'end': 6.5,\n",
            "                               'start': 6.22,\n",
            "                               'syllables': ['it'],\n",
            "                               'text': 'it'},\n",
            "                             { 'confidence': 0.977,\n",
            "                               'end': 6.66,\n",
            "                               'start': 6.5,\n",
            "                               'syllables': ['for'],\n",
            "                               'text': 'for'},\n",
            "                             { 'confidence': 0.955,\n",
            "                               'end': 7.48,\n",
            "                               'start': 6.66,\n",
            "                               'syllables': ['your-self'],\n",
            "                               'text': 'yourself'},\n",
            "                             { 'confidence': 0.748,\n",
            "                               'end': 8.2,\n",
            "                               'start': 7.48,\n",
            "                               'syllables': ['right'],\n",
            "                               'text': 'right'},\n",
            "                             { 'confidence': 0.997,\n",
            "                               'end': 8.54,\n",
            "                               'start': 8.2,\n",
            "                               'syllables': ['now'],\n",
            "                               'text': 'now.'}]}],\n",
            "  'text': ' Come over to thebeetstars.com, trunk vocal today and try it for '\n",
            "          'yourself right now.'}\n"
          ]
        }
      ]
    },
    {
      "cell_type": "code",
      "source": [
        "from pydub import AudioSegment\n",
        "import os\n",
        "from IPython.display import Audio\n",
        "import json\n",
        "\n",
        "audio_file_path = \"/content/test.mp3\"\n",
        "audio_file = AudioSegment.from_mp3(audio_file_path)\n",
        "\n",
        "json_file_with_syllables_path = \"/content/timestamp_syllables.json\"\n",
        "with open(json_file_with_syllables_path, \"r\", encoding=\"utf-8\") as f:\n",
        "    json_data = json.load(f)\n",
        "\n",
        "output_dir = \"/content/audio_syllables\"\n",
        "os.makedirs(output_dir, exist_ok=True)\n",
        "\n",
        "for segment in json_data[\"segments\"]:\n",
        "    words = segment[\"words\"]\n",
        "    for word in words:\n",
        "        syllables = word[\"syllables\"]\n",
        "        for i, syllable in enumerate(syllables):\n",
        "            syllable_start = word[\"start\"] + i * (word[\"end\"] - word[\"start\"]) / len(syllables)\n",
        "            syllable_end = word[\"start\"] + (i + 1) * (word[\"end\"] - word[\"start\"]) / len(syllables)\n",
        "\n",
        "            start_time_ms = int(syllable_start * 1000)\n",
        "            end_time_ms = int(syllable_end * 1000)\n",
        "            audio_segment = audio_file[start_time_ms:end_time_ms]\n",
        "\n",
        "            segment_file_path = os.path.join(output_dir, f\"{word['text']}_{i+1}_{syllable}.mp3\")\n",
        "            audio_segment.export(segment_file_path, format=\"mp3\")\n",
        "            print(f\"Exported {segment_file_path}\")\n",
        "\n",
        "            display(Audio(segment_file_path))"
      ],
      "metadata": {
        "colab": {
          "base_uri": "https://localhost:8080/",
          "height": 1000
        },
        "id": "M4UAOYq32eRN",
        "outputId": "44500ecc-6326-40fc-bc7c-ee27ac82ab96"
      },
      "execution_count": null,
      "outputs": [
        {
          "output_type": "stream",
          "name": "stdout",
          "text": [
            "Exported /content/audio_syllables/Come_1_Come.mp3\n"
          ]
        },
        {
          "output_type": "display_data",
          "data": {
            "text/plain": [
              "<IPython.lib.display.Audio object>"
            ],
            "text/html": [
              "\n",
              "                <audio  controls=\"controls\" >\n",
              "                    <source src=\"data:audio/mpeg;base64,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\" type=\"audio/mpeg\" />\n",
              "                    Your browser does not support the audio element.\n",
              "                </audio>\n",
              "              "
            ]
          },
          "metadata": {}
        },
        {
          "output_type": "stream",
          "name": "stdout",
          "text": [
            "Exported /content/audio_syllables/over_1_o-ver.mp3\n"
          ]
        },
        {
          "output_type": "display_data",
          "data": {
            "text/plain": [
              "<IPython.lib.display.Audio object>"
            ],
            "text/html": [
              "\n",
              "                <audio  controls=\"controls\" >\n",
              "                    <source src=\"data:audio/mpeg;base64,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\" type=\"audio/mpeg\" />\n",
              "                    Your browser does not support the audio element.\n",
              "                </audio>\n",
              "              "
            ]
          },
          "metadata": {}
        },
        {
          "output_type": "stream",
          "name": "stdout",
          "text": [
            "Exported /content/audio_syllables/to_1_to.mp3\n"
          ]
        },
        {
          "output_type": "display_data",
          "data": {
            "text/plain": [
              "<IPython.lib.display.Audio object>"
            ],
            "text/html": [
              "\n",
              "                <audio  controls=\"controls\" >\n",
              "                    <source src=\"data:audio/mpeg;base64,SUQzBAAAAAAAI1RTU0UAAAAPAAADTGF2ZjU4Ljc2LjEwMAAAAAAAAAAAAAAA//tUwAAAAAAAAAAAAAAAAAAAAAAASW5mbwAAAA8AAAANAAAKgAAkJCQkJCQkNjY2NjY2NjZJSUlJSUlJSVtbW1tbW1ttbW1tbW1tbYCAgICAgICAkpKSkpKSkqSkpKSkpKSktra2tra2trbJycnJycnJ29vb29vb29vt7e3t7e3t7f////////8AAAAATGF2YzU4LjEzAAAAAAAAAAAAAAAAJAPAAAAAAAAACoADFruXAAAAAAAAAAAAAAAAAAAA//tUxAAAB3QBc7QhgCGZly63HvACAACRB8u1FGAPnygIHAfB8+JwQBB0uD8Th8EAQDEBg+D4PkwQBAEAQM+7/ygIAM/3f/4Pg+kEAQdLg+D4AZLbZLSsuutu221AAClETU5HjRUjpSpfEa7CdKuEfXJ9EPJKf6w7jDEVcE47bbr7bFI4zbrl89UZPULdNkdyeYstMmVqJPvMHX8e3rnG9fOIW6117QdVxv2rPZAWaLKJpDeLN1WqSfhJFNxxilUE//tUxASACqS/aV2EADFFKKxlhhTulBXJLZMVeOb80D9P5k+0916LgOFBYg4PkCFTmGnRBSlLzUbb2o7u/6vm5vXN3bjmpRqQsY1qzpb+mucEQ2pwAR5QNt//Lzk2CoFQCKDSAi13FZLpRo9nZFRKAUYuqXw/9SPDQO0i+O10UAJerNOVyndGax3Gs59WSkUTOpBwpe6yoZSszGcqletGu9107/9O6////5UGHTVpBzkEVUoEpArv/ihTdSXNZmtK//tUxAaACt07YywgTflXp6ulpIl/ebPyRw1MtrHp1+kBdeQ1OaeJiylq4omHlRtGm8mJKnFF8wn0p9PNnQMdHRmrUMDJJPkodGsY9biMUf/oUsn///N+ejtYLDhEhkwJIpK1UmhQEskbCO6xxXtK02VSSFHDwMgrMgRF0GF3CQKBlWkabLNz31uynm5sNLu2XOqMrnO6OIPOM6szKexXdnJVNZCpJ70GT/21b////v8sQAGaZiCWi0Y2m5ARAEDD//tUxAWACmTBZ6ewafFeqCwlhJV/YAlSYvRfsaANA5FzcQfikqc4bTMCEgCWiNrtOwPc36hezCdM+0Jrg2Dn9aFHzi5gbUW27g3aEkVlTjtx33x+HS/L//+jpSE2IlDHNX8RIBFGQBM25uOziUyV9oDbgB8QoC7E2HIemcFhTIVJ9FFar24ZdV4XbBUyea/PdmUxn1jyGsUaVaKLuqns1qZ3ReRuQ38qNP////8d7qcoRIJnrkT22SLcaQuDJG5i//tUxAWACsy/ZUw9A/FVJ2308Yqvaj4Oo79E0W0wSQ93Mw18vFlUjT/vZcOIYcxWmy2yaM7Vp/ukGftb0o4170EA6xzxexlpUWiTAyrkt/Vx8BiH1GfU9//q2EqzgIuAiCUabdjckkYbQUZmk4KCMTKw8F5cH/FRyYYUA3P2eK5t6YZW1jYX9A5BBPLtBJ54unQwz+Jc4bl7ja6+Q6HSZidv78aV/Yuz0f/ySIhP//9P7fmF4yUgBIpGJNtuIYI8//tUxAUACpk9Z6wwS/lNJ6yo9An/SgpS6Fh9fb2YlrtJg3HsyLMCpcnxIdFsPqMTTp2r8fe1L/d1KUxCQkv+5XJMo+jQOx51QR0d7/0ezKQ3ob/qokqHT/////lcQg8AAlE0k24CJDWCgASaKQJfqITiyNhGuoXNzuWIbxCFDBGONJt0ZKVIcVP6tVyjAbdpFXUj4rqskNnCxDPj0W1V0tW5qVKo5TYJ////////+pTCwo0A4Epe8TNKlh4a8xNc//tUxAaACoS3YSykzbFfKGtZlJZeLCbiw7/vs0OnnnwDoBGeJIGE2RkT7sZJtTlCvU9ObUcqGJHhu+suqcDfPSv8Hltta7bGzmfa7tlGJBkFxUD1O///53cCI0gAFCbA0QIDgp4MDA6eCDE/B96xAkfmmjO8Wrf+Xxqw77xzrPLbVpgRygX6Xv0Ujeepk5MOkG8rHDHOSpyqomZOO0zl2VvL9WDAF5gZiN//////5v1UUmHuQekJItyBiouZfAE0//tUxAYACg1Da0eYTzEuKC208Yn3o3E56tjerLNriroaE3JAskixh4b1yRGKfGs5NBI2L6lZ9ju6tqiK6iWRnbKl4vUjd+tUbzKzt/////y/3luPMHKYQPKkFSNAJJxyCDBWlkiGmZC4iUVKWRTxldVgrtgzSGxgFImSGOhhC3IsLIdN3JpbSPhRGnmRrryV7kRCJ8mi/0b////+/9WRWWylGJwtBAAE5hhBhnQgwmB6VOaNDIczAlGZKSMqjo5O//tUxA2ACXB5Tu0wZcF8qC309gl/WlSoch+XEk5MroegkUWHxBO9LexbZUjIvUCJUF0PFN449eRL+Oob//9v3BUULEjZ5AuRKJuOOQQYF6+JIWBkPROI7SgZ0zNoUiJ0D5uYQtdJw+S2hDDg7Dg7PHT94fAJyV1B+f0t0c2YFuVyBUdp3VTM0m9b35N6GblBIUttEI3////+pfV2nMx3KQGLCEiiAOBAEJyiDTJ1oIgiAw81ON33TqxGln6GUyqm//tUxA2AChyNY0wYsNFRpq3phgj/pUvxppNsSQJa9IARyAE060RsCR947XZqMdzT2Nw+BxBxM5cuAoWzXgICw0Qcw5///kxGF0xOi3opBRjjFZmsSYuIzlEVgHpQWoh3OU5gnqvhD4vOv0/JrmK6LH/lu5roCc5RZBBzuioebqLFOOpyI4ZTwNzczrzHhzsAnbo1l//kb////1KFSqb6qgAgAIADwwrICmFkyMZihhwyAFN1v6GKwe4UxOvq6dM7//tUxBAACVxrX00w0IEuKG4o9IlvqKyqJVPSVl65mGAvZZjn/3Yk4Cw5lT0ydPjXonXpjggn/HmN7v///Wh3LyFyUCUYxBKIqVJxH00iN4QUayOCqTI1E8cgPKsmNyf8qP54VpqMDJOzhHRX2S2fFiH22Ot3/+UqGOUBO3//////6/s1AotA4q0E+LUAlBAClr6NmYepYAXRmhqj4BJAWeDjFkcEIjQoKYbuXCizWX+05VQyKXXlTRSCDBzs1iqZ//tUxBoBCUDxa0ekR1EfJ63lhYj/Jf+Q6qdcxG//9jkcIHwsG/++UwTeGACgEvzF98WotLewoRBA+rmBHEfXRs+L4Tqlvj5Lla6/xS0slP9fxSOqTLb/5/4IYxaXScjkVPs6N0S3+/TSxZqFKZw4gMweIQAgElyQF9SCPC9DpTBYj9WYoMFc4KqjgVABLYluN3w4K1q2XUpWT5Wl//Mbf+rGRyo5cqsawY4NKSSyk0UxVFKSSyk0UxVFKSSysqzF//tUxCaCCkzDZOeYSZkECiCBnCQwUVJLVmdmvICJRBYApLKFzxEIQlCwkZFlsaU7Z43NpDhuACgjQNu3NZQrTzyQljqaSagOGuaZULVs/////Z1+K9fs6+oV4upMQU1FMy4xMDCqqqqqqqqqqqqqqqqqqqqqqqqqqqqqqqqqqqqqqqqqqqqqqqqqqqqqqqqqqqqqqqqqqqqqqqqqqqqqqqqqqqqqqqqqqqqqqqqqqqqqqqqqqqqqqqqqqqqqqqqq\" type=\"audio/mpeg\" />\n",
              "                    Your browser does not support the audio element.\n",
              "                </audio>\n",
              "              "
            ]
          },
          "metadata": {}
        },
        {
          "output_type": "stream",
          "name": "stdout",
          "text": [
            "Exported /content/audio_syllables/thebeetstars.com,_1_the-beet-stars-com.mp3\n"
          ]
        },
        {
          "output_type": "display_data",
          "data": {
            "text/plain": [
              "<IPython.lib.display.Audio object>"
            ],
            "text/html": [
              "\n",
              "                <audio  controls=\"controls\" >\n",
              "                    <source src=\"data:audio/mpeg;base64,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\" type=\"audio/mpeg\" />\n",
              "                    Your browser does not support the audio element.\n",
              "                </audio>\n",
              "              "
            ]
          },
          "metadata": {}
        },
        {
          "output_type": "stream",
          "name": "stdout",
          "text": [
            "Exported /content/audio_syllables/trunk_1_trunk.mp3\n"
          ]
        },
        {
          "output_type": "display_data",
          "data": {
            "text/plain": [
              "<IPython.lib.display.Audio object>"
            ],
            "text/html": [
              "\n",
              "                <audio  controls=\"controls\" >\n",
              "                    <source src=\"data:audio/mpeg;base64,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\" type=\"audio/mpeg\" />\n",
              "                    Your browser does not support the audio element.\n",
              "                </audio>\n",
              "              "
            ]
          },
          "metadata": {}
        },
        {
          "output_type": "stream",
          "name": "stdout",
          "text": [
            "Exported /content/audio_syllables/vocal_1_vo-cal.mp3\n"
          ]
        },
        {
          "output_type": "display_data",
          "data": {
            "text/plain": [
              "<IPython.lib.display.Audio object>"
            ],
            "text/html": [
              "\n",
              "                <audio  controls=\"controls\" >\n",
              "                    <source src=\"data:audio/mpeg;base64,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\" type=\"audio/mpeg\" />\n",
              "                    Your browser does not support the audio element.\n",
              "                </audio>\n",
              "              "
            ]
          },
          "metadata": {}
        },
        {
          "output_type": "stream",
          "name": "stdout",
          "text": [
            "Exported /content/audio_syllables/today_1_to-day.mp3\n"
          ]
        },
        {
          "output_type": "display_data",
          "data": {
            "text/plain": [
              "<IPython.lib.display.Audio object>"
            ],
            "text/html": [
              "\n",
              "                <audio  controls=\"controls\" >\n",
              "                    <source src=\"data:audio/mpeg;base64,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\" type=\"audio/mpeg\" />\n",
              "                    Your browser does not support the audio element.\n",
              "                </audio>\n",
              "              "
            ]
          },
          "metadata": {}
        },
        {
          "output_type": "stream",
          "name": "stdout",
          "text": [
            "Exported /content/audio_syllables/and_1_and.mp3\n"
          ]
        },
        {
          "output_type": "display_data",
          "data": {
            "text/plain": [
              "<IPython.lib.display.Audio object>"
            ],
            "text/html": [
              "\n",
              "                <audio  controls=\"controls\" >\n",
              "                    <source src=\"data:audio/mpeg;base64,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\" type=\"audio/mpeg\" />\n",
              "                    Your browser does not support the audio element.\n",
              "                </audio>\n",
              "              "
            ]
          },
          "metadata": {}
        },
        {
          "output_type": "stream",
          "name": "stdout",
          "text": [
            "Exported /content/audio_syllables/try_1_try.mp3\n"
          ]
        },
        {
          "output_type": "display_data",
          "data": {
            "text/plain": [
              "<IPython.lib.display.Audio object>"
            ],
            "text/html": [
              "\n",
              "                <audio  controls=\"controls\" >\n",
              "                    <source src=\"data:audio/mpeg;base64,SUQzBAAAAAAAI1RTU0UAAAAPAAADTGF2ZjU4Ljc2LjEwMAAAAAAAAAAAAAAA//tUwAAAAAAAAAAAAAAAAAAAAAAASW5mbwAAAA8AAAAVAAAQgAAXFxcXIiIiIiIuLi4uLjo6Ojo6RUVFRVFRUVFRXV1dXV1oaGhoaHR0dHSAgICAgIuLi4uLl5eXl5eioqKirq6urq66urq6usXFxcXF0dHR0d3d3d3d6Ojo6Oj09PT09P////8AAAAATGF2YzU4LjEzAAAAAAAAAAAAAAAAJAYAAAAAAAAAEIAIrHQWAAAAAAAAAAAAAAAAAAAA//tUxAAACZhdLFT3gAFDkiiXHvAAADtPAVkx/i3hqx/rwhYmZlxmBWMkEt4hguB0TP3+4CsQ9D0PV7O/ve9KUpSA8ePH4frB8EHCeCYPvlwQDHrB8Hwx/Jggc0+4QAg7/lwAFBuAEkCHHwBiXQbgUI3CRg3SZBeOZkqQFoaKMHu+Otdn8hi01tJ6M7VFaVHuGzzKaDWOyv2KtM2Y40e2o8DNYm7Y1ma+ItfK7lLhzPqfTGJ4AABdGB8BKBhH6FaY//tUxAaACvCHRvz0AAFIJ+w08Yo/iBUZPlCeIt6QZS8F1TrwORohGCULChKD7F1Udb0sPVloWo5ZQY3OzU93dJww1gLA5FRcgFRcUMJkwXcD5di///S655ckDoTaWYGpHG2kkkmmxAeYtZzE1VZumTEQSGqBgdv1mbLjCY+LfGGCk6K6CUYllaOmhLIrLHZkd/0bNkqqrfwnRmd3LY5ViutHf127/////LrrNR8oVGoxGgAYgMUjAM4upOwQZ2Bd//tUxAcBiwx7PkewctFHmShc9I5YEwHOMNRA3IQnqEKg2BHmEr0SXqRdCwjPMkE/TiGyVpL0NDrYXHy4+zz/mU8YiO6wU99sJjoNBEUAYuBZeDaTt/ej//zUkFj9YFHwLaA5BegXk0HyPUxnOPUri+DwuOVWtStIUaKNRhIf2lAgf0XTBtNE+8LX93SlfZS050chUYZbq+ZaJVP/RmyXtiZ/4kK6CwQT3dX95SuujqI76gAAoKCMKQF0rE6EIEmN//tUxAcDiuhHQmexLgFYj+hM8wpYcpxjC6E5IodJsCzJxzGkJzM4GigpHTpQNDh8zKzbgID5xJwVCoZBlZ8EzhIABwaQOHgOCgLvNExiTjAiFnf//2LUxKACWSHjZt3UEaKEOIYQaksbwOY2QqzbKcohM1SNRPH45E/mLtAZIYMkinyRqJkASaZs1ipJS8GTW1Cqxuo4DAgiOEW0JD41hc4xQ8peIVei3v92wQDhVyi4gKJClQARAAAACJRgVBwk//tUxAWBCninR6ekcEFSFGic9g3IJFGX4xC4nKiyWHSkEqmCcwkGto7JzNsDYQVGBpFoQaSVjIdR4w/D0QnE5OWxdp0pnzn8JvHB86IBkCjdur//XsdWJHA+LhQ6PKAATgwOYngyDJISuiFkiNNE0PoWd+Yh0I5TCsrlQSfZNRBssKQQ4OKCHDhzSDkBBu1Jl+9R9je3LMkvZjkoiF2HkhsPpQIG2f/1IPqePeJUPLFlhlVggAAAS8MDACRmKKWh//tUxAaBCrB5R0ewZ8FNGOkemIACxcC+leDdoMgZvgFJVBLsUi6dKiQeWNamltaKVT5zAjqyo0PRlY3cJRAA8BqFlDgKAEoMmxA4hQmoF1g+Ltu//+5MYkiw2cDR8IEkuiAaiGRgvBJWKNEMzHMAEew0BanoIhABwWw4NgalrlKhpqsyEkCpityOhbv1RpS1Vn7eWfuovabo4cQ447n5v/6jEMNkwOSFf/+30ToQafiVYCQJBJiTKaFYFAtAABJJ//tUxAeAC0S1W7iUgAFZLyyrklADkS6b2wFJg+eZEpnA+iAZEySE6xhdlCBANJnExZEzj249ROEPvRzURqs/3e58/kRixsUC9Ig8WUl///2VGo78SGt/dguF/////4EPvsssgAExJ3EKIMxXRrst6xloUCYjmbclWRkIVf///ItY4aUeQa7I6eOEjSigwxRxBcjf7Dn//////dGJSqKo9SEOofQVFxofRDsifJQa7OS6CIgoYHqqkjjjcjaJUEkg//tUxASACnCPbaewxRFDD6v09gywMxDCRk0VorjH37k80TvFQ4YCDtMPNUv5qJyommb7Hw6Y3P8bM1vnX1JkFWdJiVJNcKqPUDlEPcAv//8adYoSgEMnDa4cdw/7GC7wE3WmQgAFhtgYEwYBfhGB0iNhW/cc5KTxbGMBnG4v/i8ijHNv86jlCTSuly45YcYFAeKh4i2PPWixZHFhRv//9FxoKA+IAMBrQEW6HcSDRENqQvlXABloDTHYLSQtAg91//tUxAeACdhLYyeZbrFBiuqdnCTgSJMq0lGSqQN44RrL5EEhURjxe6P4tRsjm+ouDQJG4JRwduuAoADQtDoayJVIb6w6Mf+nseiEnd2u2KZUt5HrqACQApxhJCZAkYAxJgVnCCeYJIIyR+GNyKUxF3BQI4krKnXIK7Rkn6rSNuCwupb/DVlJ9gFR4nDAiYh7CziAkSyVNiJ5gWYr6K///9mLteWN1VB4HSacgYwaw0jjEUNMCSsYXZLZOSjAQkqq//tUxA0ACZSHbUewZfFCkO409g0uKY4bm91SuehV6bz3goKUdzoSlO//+coiFVtKvLCUTkBc40KOAQvE5sSG///H4xuEHJEKADSAUbbkgguOFuTZzKADwkZTbgRhi2RQKt0g2Or5YZH8fMfgBtYJd6FNVLNpKqHciU65cCKBsoNlJYgRZx5BQLirxyCR3//3zUosEyIMnVoVJmqKgKtIxIEVUD/OEve8t582bzbigEmcHSWIyAFArD1HekmpPYzJ//tUxBODCSCFYkZgYfEsESsNjQywvd4zqxqZwndkR6EODUD0Q1ERgowStAP2P//q6HUDQQBAEginAMLwgCgRK2gAwjqb9gAMQ8BpGdLbbODRr+iX1ROTRB8YrF5JTs+HNzMtTpsmDRYsLlYbLvLLq0AQYgWZAb22yhCVQQb////9yFBAXTKDUYwdxsm2hZUlYC3DJMZ9ksDoVgYl19VXVqoSsi7rfuuj9upM6J3qQkLxME4cB5Zsd+1AsZUBBM////tUxB8BCUhVbUexKLESjK5o9KDuSMAX+IfYBouFgTArpQm21JIOYJ6u0auUaFSjNkAwLA8UNlNfW5XeVb7LKR9NTWG6rvxkj0EyrECgGD7tlxcuCoM0CgVDv+MY//+yPaCxJRM0KCUuo9R5KWFILRkaCFWY0pJuJKoNxC5OGSsqwaHJqtUVx0gFDKXWzVdrB7/nbyFGI8+q2M755ZIwGuw/9qK2DV/x/y4xQJgcGIRQRTDTgg9jcE9YbJHlC45h//tUxC0ACSCFXG0ccNExKC2pg5YftnxkkPwc+7/QXhOZ3i6yJxBrItdLYb/SyzzB/OZSiLiISbd/+Srsn+tZ/+nv/////TUUcggchhwmUKyqgAyn2ek4onFFUmML1AcErrzkP+vYdVUKUuS34FjTxRbC1CIyUWtS+usyAs31AUUOsmWZXOOgIxaHeXOigBoxgE/3f/7HggJGHygSggoGJRzlSahAzCkRjwwRoEBSlkjMn4K0v40M0nJvWyFELJvR//tUxDeCCTyJYMwgbzEtiyyc/CSm+cJe0+9PgiiTrLww9s0DQmCxJnGUnVN6gN0ODb///ETgEJR5ssMqACJDkYMgfFRhiEWFlwb2yWFu/GGcvi3oOJiosuOVTzKhTyHYpn8z99M/O5XDGzTBvAhiwbn+8kJXAhR/8sz1k9TgXP///uh4yUSbBBMgg9dd0mKiMskjMeuJsvO12UNCWy+ifTAAfoaOzOjBshSBcFCY+j49PuEmSETfx1asJrcWCAKC//tUxEICCWCHYMy8brEwjeuNhI4KQ18akkSHXCgxnlm///yQwYSvAVUOEm2Zm6kELhYimWUHRzEcQ47p0O0l1MQIsYkl0s8vOvAQu8IHk8ZPK8/Si4nQlMlclsY8GSGqiigATCIgVgEkM////rWUOPBEIvBAAG9xxta6fiJA6YsbI/lpXae2VUr5NgvtmVmZuGLmmhittGS3COUonTMS2lmRmTDMYKQcIMbda11YcZks1QTMtC/nzX///+oFEakE//tUxEuACVCJYMw8Z3EtEasdhgoIAASdEGStCLzEQK8YuEWTIcaGYzAsjqW3alSzkMVxu9dv2KHEIrEcI5/TSv9gCHQnFL6szXNMEHdCKzWoQr7//BABvLHP///fhYAF3jj0miwhUR4cQPdRU1EKjysC6yhLAhQMoTfoqRlebjSWYQiCWRe181zCyBlEG+0wRBUGRYSiNwiDosxm0VUn///etMss68B2KkQnIik0m5AxgkpUGMBtKyIqU3NR7Hwz//tUxFYBCUjFWOwMUtEnjWqNh4jwIFzovKT26muaZ2QYGht/zyBk3hQpLRLZzsZ7IZVtuUr4JpJrnZQFQQbWK3T3/+zJBIDEQ4A3ozLWBmikSYf4vVZZNaXO8LOm0bechunuvEIHaC3mWXo4FDZOypUU9ScldZAITsr/I3sJMxO4m2kpO67NllzmXchI4yyVeiL1EAACnQA5IldNPaO8NEkBCWRWko/wiSERyYhojQT8fSmzGsH2FfZj4TyGLaR8//tUxGEACWyha6ewY/EkGGqlgw3mfFzEwTnhvthu6EjtsY2CEMv5IE+T46nu0vGrug7/gAMAhONiVMf1O8LRpZ622TaVEhHPZQ0VpYhmNAhB8t4kPjd7EYqrij042tydumiadOo6pAl3DcqJWb68H+xb2/XYUfZh1tIEFXABwRQR0+EJd5YZpdNm9SxIiFwIAIEMmF1xKuLZ7NZSp3Ldy6BywgwJxDobKkbpYU1DE9sSTp5cLzpqDROvqvJs7lLf//tUxGwBCWyJPu0wZ8kZDieJphmTEWpgZUAhVQDdEJJarTRVKuHaQmOui5MaEm8OBQk0FROJXhyTEqLzTQnI1X9jDARqqrGVVVdjrGuokmb41XP2MK4kOfDVT509///pqPZaDWbsdBRR6C8aZgcDyhYVEZly2J2TKhdn4t4r4p/q/1e3q/xRv9VMQU1FMy4xMDBVVVVVVVVVVVVVVVVVVVVVVVVVVVVVVVVVVVVVVVVVVVVVVVVVVVVVVVVVVVVV//tUxHiACRCjQmwwa0ktFWjk8w2mVVVVVVVVVVVVVVVVVVVVVVVVVVVVVVVVVVVVVVVVVVVVVVVVVVVVVVVVVVVVVVVVVVVVVVVVVVVVVVVVVVVVVVVVVVVVVVVVVVVVVVVVVVVVVVVVVVVVVVVVVVVVVVVVVVVVVVVVVVVVVVVVVVVVVVVVVVVVVVVVVVVVVVVVVVVVVVVVVVVVVVVVVVVVVVVVVVVVVVVVVVVVVVVVVVVVVVVVVVVVVVVVVVVV//tUxIQDxLwY/GMEZCAAADSAAAAEVVVVVVVVVVVVVVVVVVVVVVVVVVVVVVVVVVVVVVVVVVVVVVVVVVVVVVVVVVVVVVVVVVVVVVVVVVVVVVVVVVVVVVVVVVVVVVVVVVVVVVVVVVVVVVVVVVVVVVVVVVVVVVVVVVVVVVVVVVVVVVVVVVVVVVVVVVVVVVVVVVVVVVVVVVVVVVVVVVVVVVVVVVVVVVVVVVVVVVVVVVVVVVVVVVVVVVVVVVVVVVVVVVVV\" type=\"audio/mpeg\" />\n",
              "                    Your browser does not support the audio element.\n",
              "                </audio>\n",
              "              "
            ]
          },
          "metadata": {}
        },
        {
          "output_type": "stream",
          "name": "stdout",
          "text": [
            "Exported /content/audio_syllables/it_1_it.mp3\n"
          ]
        },
        {
          "output_type": "display_data",
          "data": {
            "text/plain": [
              "<IPython.lib.display.Audio object>"
            ],
            "text/html": [
              "\n",
              "                <audio  controls=\"controls\" >\n",
              "                    <source src=\"data:audio/mpeg;base64,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\" type=\"audio/mpeg\" />\n",
              "                    Your browser does not support the audio element.\n",
              "                </audio>\n",
              "              "
            ]
          },
          "metadata": {}
        },
        {
          "output_type": "stream",
          "name": "stdout",
          "text": [
            "Exported /content/audio_syllables/for_1_for.mp3\n"
          ]
        },
        {
          "output_type": "display_data",
          "data": {
            "text/plain": [
              "<IPython.lib.display.Audio object>"
            ],
            "text/html": [
              "\n",
              "                <audio  controls=\"controls\" >\n",
              "                    <source src=\"data:audio/mpeg;base64,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\" type=\"audio/mpeg\" />\n",
              "                    Your browser does not support the audio element.\n",
              "                </audio>\n",
              "              "
            ]
          },
          "metadata": {}
        },
        {
          "output_type": "stream",
          "name": "stdout",
          "text": [
            "Exported /content/audio_syllables/yourself_1_your-self.mp3\n"
          ]
        },
        {
          "output_type": "display_data",
          "data": {
            "text/plain": [
              "<IPython.lib.display.Audio object>"
            ],
            "text/html": [
              "\n",
              "                <audio  controls=\"controls\" >\n",
              "                    <source src=\"data:audio/mpeg;base64,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\" type=\"audio/mpeg\" />\n",
              "                    Your browser does not support the audio element.\n",
              "                </audio>\n",
              "              "
            ]
          },
          "metadata": {}
        },
        {
          "output_type": "stream",
          "name": "stdout",
          "text": [
            "Exported /content/audio_syllables/right_1_right.mp3\n"
          ]
        },
        {
          "output_type": "display_data",
          "data": {
            "text/plain": [
              "<IPython.lib.display.Audio object>"
            ],
            "text/html": [
              "\n",
              "                <audio  controls=\"controls\" >\n",
              "                    <source src=\"data:audio/mpeg;base64,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\" type=\"audio/mpeg\" />\n",
              "                    Your browser does not support the audio element.\n",
              "                </audio>\n",
              "              "
            ]
          },
          "metadata": {}
        },
        {
          "output_type": "stream",
          "name": "stdout",
          "text": [
            "Exported /content/audio_syllables/now._1_now.mp3\n"
          ]
        },
        {
          "output_type": "display_data",
          "data": {
            "text/plain": [
              "<IPython.lib.display.Audio object>"
            ],
            "text/html": [
              "\n",
              "                <audio  controls=\"controls\" >\n",
              "                    <source src=\"data:audio/mpeg;base64,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\" type=\"audio/mpeg\" />\n",
              "                    Your browser does not support the audio element.\n",
              "                </audio>\n",
              "              "
            ]
          },
          "metadata": {}
        }
      ]
    },
    {
      "cell_type": "code",
      "source": [],
      "metadata": {
        "id": "rXM99Pma3zvY"
      },
      "execution_count": null,
      "outputs": []
    }
  ]
}